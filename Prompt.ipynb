{
 "cells": [
  {
   "cell_type": "markdown",
   "id": "5c535725-1437-4ac8-b939-94942673266e",
   "metadata": {},
   "source": [
    "# Modell-Trainer"
   ]
  },
  {
   "cell_type": "code",
   "execution_count": 1,
   "id": "152cd0a3-195b-4f27-bc26-05733891cf5f",
   "metadata": {},
   "outputs": [],
   "source": [
    "import json\n",
    "import tensorflow as tf\n",
    "from tensorflow.keras.preprocessing.text import Tokenizer\n",
    "from tensorflow.keras.preprocessing.sequence import pad_sequences\n",
    "from sklearn.model_selection import train_test_split\n",
    "import numpy as np\n",
    "import subprocess\n",
    "\n",
    "class LinuxBefehlTrainer:\n",
    "    def __init__(self, datensatz_pfad):\n",
    "        \"\"\"Initialisiert die Klasse mit dem Pfad zum Datensatz.\"\"\"\n",
    "        self.datensatz_pfad = datensatz_pfad\n",
    "        self.befehle = []\n",
    "        self.beschreibungen = []\n",
    "        self.tokenizer = Tokenizer()\n",
    "        self.max_sequenz_laenge = 0\n",
    "        self.wort_index = {}\n",
    "        self.modell = None\n",
    "\n",
    "    def lade_datensatz(self):\n",
    "        \"\"\"Lädt den Datensatz aus der JSON-Datei.\"\"\"\n",
    "        with open(self.datensatz_pfad, 'r') as f:\n",
    "            daten = json.load(f)\n",
    "        self.befehle = [eintrag['command'] for eintrag in daten]\n",
    "        self.beschreibungen = [eintrag['description'] for eintrag in daten]\n",
    "\n",
    "    def verarbeite_daten(self):\n",
    "        \"\"\"Verarbeitet die Daten, um sie für das Modell vorzubereiten.\"\"\"\n",
    "        self.tokenizer.fit_on_texts(self.beschreibungen)\n",
    "        sequenzen = self.tokenizer.texts_to_sequences(self.beschreibungen)\n",
    "        self.max_sequenz_laenge = max(len(seq) for seq in sequenzen)\n",
    "        self.wort_index = self.tokenizer.word_index\n",
    "        daten = pad_sequences(sequenzen, maxlen=self.max_sequenz_laenge)\n",
    "        labels = np.array(range(len(self.befehle)))\n",
    "        return train_test_split(daten, labels, test_size=0.2, random_state=42)\n",
    "\n",
    "    def baue_modell(self):\n",
    "        \"\"\"Erstellt und kompiliert das Modell für die Vorhersage.\"\"\"\n",
    "        self.modell = tf.keras.Sequential([\n",
    "            tf.keras.layers.Embedding(len(self.wort_index) + 1, 128, input_length=self.max_sequenz_laenge),\n",
    "            tf.keras.layers.GlobalAveragePooling1D(),\n",
    "            tf.keras.layers.Dense(64, activation='relu'),\n",
    "            tf.keras.layers.Dense(len(self.befehle), activation='softmax')\n",
    "        ])\n",
    "        self.modell.compile(optimizer='adam', loss='sparse_categorical_crossentropy', metrics=['accuracy'])\n",
    "\n",
    "    def trainiere_modell(self, X_train, y_train, X_test, y_test, epochen=10):\n",
    "        \"\"\"Trainiert das Modell mit den gegebenen Daten und speichert es.\"\"\"\n",
    "        history = self.modell.fit(X_train, y_train, epochs=epochen, validation_data=(X_test, y_test))\n",
    "        self.modell.save('linux_befehl_modell_de.h5')\n",
    "        print(\"Modell erfolgreich trainiert und gespeichert.\")\n",
    "\n"
   ]
  },
  {
   "cell_type": "markdown",
   "id": "61ec2200-9c72-461a-a326-839fd2066598",
   "metadata": {},
   "source": [
    "# Befehl-Generator"
   ]
  },
  {
   "cell_type": "code",
   "execution_count": 2,
   "id": "9454c341-9bce-42b2-9ef8-77233f665fa0",
   "metadata": {},
   "outputs": [],
   "source": [
    "class LinuxBefehlVorhersager:\n",
    "    def __init__(self, modell_pfad, datensatz_pfad):\n",
    "        \"\"\"Initialisiert die Vorhersageklasse mit dem Modell und Datensatz.\"\"\"\n",
    "        self.modell = tf.keras.models.load_model(modell_pfad)\n",
    "        with open(datensatz_pfad, 'r') as f:\n",
    "            daten = json.load(f)\n",
    "        self.befehle = [eintrag['command'] for eintrag in daten]\n",
    "        self.beschreibungen = [eintrag['description'] for eintrag in daten]\n",
    "        self.tokenizer = Tokenizer()\n",
    "        self.tokenizer.fit_on_texts(self.beschreibungen)\n",
    "        self.max_sequenz_laenge = max(len(self.tokenizer.texts_to_sequences([desc])[0]) for desc in self.beschreibungen)\n",
    "\n",
    "    def sage_befehl_vor(self, beschreibung):\n",
    "        \"\"\"Sagt den Linux-Befehl vorher basierend auf der Beschreibung.\"\"\"\n",
    "        sequenz = self.tokenizer.texts_to_sequences([beschreibung])\n",
    "        gepolsterte_sequenz = pad_sequences(sequenz, maxlen=self.max_sequenz_laenge)\n",
    "        vorhersage = self.modell.predict(gepolsterte_sequenz)\n",
    "        befehl_index = np.argmax(vorhersage)\n",
    "        return self.befehle[befehl_index]"
   ]
  },
  {
   "cell_type": "markdown",
   "id": "a7ce3bd0-797e-4a5c-a578-64088283f79e",
   "metadata": {},
   "source": [
    "# Befehl-Ausführer"
   ]
  },
  {
   "cell_type": "code",
   "execution_count": null,
   "id": "66e2f52e-4fa8-44f9-b07d-473dbccad3b9",
   "metadata": {},
   "outputs": [],
   "source": [
    "class LinuxBefehlAusfuehrer:\n",
    "    @staticmethod\n",
    "    def fuehre_befehl_aus(befehl):\n",
    "        \"\"\"Führt den vorhergesagten Befehl aus und gibt die Ausgabe zurück.\"\"\"\n",
    "        try:\n",
    "            result = subprocess.run(befehl, shell=True, check=True, stdout=subprocess.PIPE, stderr=subprocess.PIPE, text=True)\n",
    "            print(\"Ausgabe:\", result.stdout)\n",
    "            if result.stderr:\n",
    "                print(\"Fehler:\", result.stderr)\n",
    "        except subprocess.CalledProcessError as e:\n",
    "            print(\"Fehler beim Ausführen des Befehls:\", e)\n",
    "\n",
    "# Training\n",
    "trainer = LinuxBefehlTrainer('linux_befehle_datensatz_de.json')\n",
    "trainer.lade_datensatz()\n",
    "X_train, X_test, y_train, y_test = trainer.verarbeite_daten()\n",
    "trainer.baue_modell()\n",
    "trainer.trainiere_modell(X_train, y_train, X_test, y_test, epochen=10)\n"
   ]
  },
  {
   "cell_type": "code",
   "execution_count": null,
   "id": "71e359bd-821c-427d-91d9-1bf2419cd254",
   "metadata": {},
   "outputs": [],
   "source": [
    "# Vorhersage und Ausführung\n",
    "vorhersager = LinuxBefehlVorhersager('linux_befehl_modell_de.h5', 'linux_befehle_datensatz_de.json')\n",
    "ausfuehrer = LinuxBefehlAusfuehrer()\n",
    "\n",
    "while True:\n",
    "    benutzer_input = input(\"Geben Sie eine Befehlsbeschreibung ein (oder 'exit' zum Beenden): \")\n",
    "    if benutzer_input.lower() in [\"exit\", \"quit\"]:\n",
    "        break\n",
    "    vorhergesagter_befehl = vorhersager.sage_befehl_vor(benutzer_input)\n",
    "    print(f\"Vorhergesagter Befehl: {vorhergesagter_befehl}\")\n",
    "    ausfuehrer.fuehre_befehl_aus(vorhergesagter_befehl)"
   ]
  }
 ],
 "metadata": {
  "kernelspec": {
   "display_name": "Python 3 (ipykernel)",
   "language": "python",
   "name": "python3"
  },
  "language_info": {
   "codemirror_mode": {
    "name": "ipython",
    "version": 3
   },
   "file_extension": ".py",
   "mimetype": "text/x-python",
   "name": "python",
   "nbconvert_exporter": "python",
   "pygments_lexer": "ipython3",
   "version": "3.11.7"
  }
 },
 "nbformat": 4,
 "nbformat_minor": 5
}
